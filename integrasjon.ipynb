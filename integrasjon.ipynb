{
 "cells": [
  {
   "cell_type": "code",
   "execution_count": 1,
   "metadata": {},
   "outputs": [
    {
     "name": "stdout",
     "output_type": "stream",
     "text": [
      "Integralet av f(x) mellom 1 og 4 er 12.0 .\n",
      "Integralet av f(x) mellom 1 og 4 er 12.0.\n"
     ]
    }
   ],
   "source": [
    "def f(x):\n",
    "    return x + 2\n",
    "\n",
    "a = 1 # x_0 = 1\n",
    "b = 4 # x_N = 4\n",
    "\n",
    "# Hva er integralet av f(x) mellom 1 og 4?\n",
    "\n",
    "A = 0\n",
    "N = 3\n",
    "dx = (b - a)/N #dx = (4-1)/3 = 1\n",
    "\n",
    "for i in range(N):\n",
    "    A = A + f(a + i*dx)*dx #i*dx gir neste funksjonsverdi\n",
    "    \n",
    "print('Integralet av f(x) mellom', a, 'og', b, 'er', A,'.')\n",
    "\n",
    "print(f'Integralet av f(x) mellom {a} og {b} er {A}.')"
   ]
  },
  {
   "cell_type": "code",
   "execution_count": 9,
   "metadata": {},
   "outputs": [
    {
     "name": "stdout",
     "output_type": "stream",
     "text": [
      "Sf(x)dx = 17.99990999999999 \n",
      "Sg(x)dx = 65.9995950004492 \n",
      "Sh(x)dx = 51.87909001055321\n"
     ]
    }
   ],
   "source": [
    "from pylab import*\n",
    "\n",
    "def integrasjon(f, a, b, N):\n",
    "    A = 0\n",
    "    dx = (b-a)/N\n",
    "    for i in range(N):\n",
    "        A += f(a + i*dx)*dx\n",
    "    return A\n",
    "\n",
    "def f(x):\n",
    "    return 2*x + 1\n",
    "\n",
    "def g(x):\n",
    "    return x**2 + 4*x + 5\n",
    "\n",
    "def h(x):\n",
    "    return e**x\n",
    "\n",
    "xlist = []\n",
    "flist = []\n",
    "glist = []\n",
    "hlist = []\n",
    "\n",
    "N = 100000\n",
    "\n",
    "\n",
    "intf = integrasjon(f, 1, 4, N)\n",
    "intg = integrasjon(g, 1, 4, N)\n",
    "inth = integrasjon(h, 1, 4, N)\n",
    "   \n",
    "    \n",
    "print(f'Sf(x)dx = {intf} \\nSg(x)dx = {intg} \\nSh(x)dx = {inth}')"
   ]
  },
  {
   "cell_type": "code",
   "execution_count": null,
   "metadata": {},
   "outputs": [],
   "source": []
  }
 ],
 "metadata": {
  "kernelspec": {
   "display_name": "Python 3",
   "language": "python",
   "name": "python3"
  },
  "language_info": {
   "codemirror_mode": {
    "name": "ipython",
    "version": 3
   },
   "file_extension": ".py",
   "mimetype": "text/x-python",
   "name": "python",
   "nbconvert_exporter": "python",
   "pygments_lexer": "ipython3",
   "version": "3.8.3"
  }
 },
 "nbformat": 4,
 "nbformat_minor": 4
}
